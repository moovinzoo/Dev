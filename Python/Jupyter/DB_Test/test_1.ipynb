{
 "metadata": {
  "language_info": {
   "codemirror_mode": {
    "name": "ipython",
    "version": 3
   },
   "file_extension": ".py",
   "mimetype": "text/x-python",
   "name": "python",
   "nbconvert_exporter": "python",
   "pygments_lexer": "ipython3",
   "version": "3.7.3-final"
  },
  "orig_nbformat": 2,
  "kernelspec": {
   "name": "python3",
   "display_name": "Python 3"
  }
 },
 "nbformat": 4,
 "nbformat_minor": 2,
 "cells": [
  {
   "cell_type": "code",
   "execution_count": 9,
   "metadata": {
    "tags": []
   },
   "outputs": [
    {
     "output_type": "stream",
     "name": "stdout",
     "text": "[1, 2, 3, 3, 4, 5]\n[1, 2, 3, 1, 2, 3]\nTrue\nlist out of bound\n1\n"
    }
   ],
   "source": [
    "lst = [1, 2, 3]\n",
    "lst2 = [3, 4, 5]\n",
    "\n",
    "# 1.1\n",
    "print(lst + lst2)\n",
    "# [1, 2, 3, 3, 4, 5]\n",
    "\n",
    "# 1.2\n",
    "print(lst * 2)\n",
    "# [1, 2, 3, 1, 2, 3]\n",
    "\n",
    "# 1.3\n",
    "print(3 in lst)\n",
    "# True\n",
    "\n",
    "# 1.4\n",
    "# print(lst[3])\n",
    "print(\"list out of bound\")\n",
    "\n",
    "# 1.5\n",
    "print(lst[-3])\n",
    "# 1"
   ]
  },
  {
   "cell_type": "code",
   "execution_count": 14,
   "metadata": {
    "tags": []
   },
   "outputs": [
    {
     "output_type": "stream",
     "name": "stdout",
     "text": "3\nFalse\n{'b', 'a', 'c'}\n{'a', 'c'}\n{'b', 'a', 'e', 'c', 'd'}\n{'b'}\n"
    }
   ],
   "source": [
    "s = {'a', 'a', 'b', 'c', 'c', 'c'}\n",
    "s2 = {'b', 'd', 'e'}\n",
    "\n",
    "print(len(s))\n",
    "print(\"d\" not in s2)\n",
    "print(s - s2)\n",
    "print(s | s2)\n",
    "print(s & s2)"
   ]
  },
  {
   "cell_type": "code",
   "execution_count": null,
   "metadata": {},
   "outputs": [],
   "source": []
  }
 ]
}