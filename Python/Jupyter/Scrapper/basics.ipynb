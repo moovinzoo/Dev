{
 "metadata": {
  "language_info": {
   "codemirror_mode": {
    "name": "ipython",
    "version": 3
   },
   "file_extension": ".py",
   "mimetype": "text/x-python",
   "name": "python",
   "nbconvert_exporter": "python",
   "pygments_lexer": "ipython3",
   "version": "3.7.3-final"
  },
  "orig_nbformat": 2,
  "kernelspec": {
   "name": "python3",
   "display_name": "Python 3"
  }
 },
 "nbformat": 4,
 "nbformat_minor": 2,
 "cells": [
  {
   "cell_type": "code",
   "execution_count": 1,
   "metadata": {
    "tags": []
   },
   "outputs": [
    {
     "output_type": "stream",
     "name": "stdout",
     "text": "['Mon', 'Tue', 'Wed', 'Thu', 'Fri', 'Sat']\n['Sat', 'Fri', 'Thu', 'Wed', 'Tue', 'Mon']\n"
    }
   ],
   "source": [
    "# List\n",
    "days = [\"Mon\", \"Tue\", \"Wed\", \"Thu\", \"Fri\"]\n",
    "days.append(\"Sat\")\n",
    "print(days)\n",
    "days.reverse()\n",
    "print(days)"
   ]
  },
  {
   "cell_type": "code",
   "execution_count": 2,
   "metadata": {
    "tags": []
   },
   "outputs": [
    {
     "output_type": "stream",
     "name": "stdout",
     "text": "<class 'tuple'>\n"
    }
   ],
   "source": [
    "# Tuple\n",
    "days = (\"Mon\", \"Tue\", \"Wed\", \"Thu\", \"Fri\")\n",
    "print(type(days))"
   ]
  },
  {
   "cell_type": "code",
   "execution_count": 3,
   "metadata": {},
   "outputs": [
    {
     "output_type": "error",
     "ename": "AttributeError",
     "evalue": "'tuple' object has no attribute 'append'",
     "traceback": [
      "\u001b[0;31m------------------------------------------------------\u001b[0m",
      "\u001b[0;31mAttributeError\u001b[0m       Traceback (most recent call last)",
      "\u001b[0;32m<ipython-input-3-e689d89f7d2c>\u001b[0m in \u001b[0;36m<module>\u001b[0;34m\u001b[0m\n\u001b[1;32m      1\u001b[0m \u001b[0;31m# Tuple test\u001b[0m\u001b[0;34m\u001b[0m\u001b[0;34m\u001b[0m\u001b[0;34m\u001b[0m\u001b[0m\n\u001b[1;32m      2\u001b[0m \u001b[0mdays\u001b[0m \u001b[0;34m=\u001b[0m \u001b[0;34m(\u001b[0m\u001b[0;34m\"Mon\"\u001b[0m\u001b[0;34m,\u001b[0m \u001b[0;34m\"Tue\"\u001b[0m\u001b[0;34m,\u001b[0m \u001b[0;34m\"Wed\"\u001b[0m\u001b[0;34m,\u001b[0m \u001b[0;34m\"Thu\"\u001b[0m\u001b[0;34m,\u001b[0m \u001b[0;34m\"Fri\"\u001b[0m\u001b[0;34m)\u001b[0m\u001b[0;34m\u001b[0m\u001b[0;34m\u001b[0m\u001b[0m\n\u001b[0;32m----> 3\u001b[0;31m \u001b[0mdays\u001b[0m\u001b[0;34m.\u001b[0m\u001b[0mappend\u001b[0m\u001b[0;34m(\u001b[0m\u001b[0;34m\"Sat\"\u001b[0m\u001b[0;34m)\u001b[0m\u001b[0;34m\u001b[0m\u001b[0;34m\u001b[0m\u001b[0m\n\u001b[0m\u001b[1;32m      4\u001b[0m \u001b[0mprint\u001b[0m\u001b[0;34m(\u001b[0m\u001b[0mdays\u001b[0m\u001b[0;34m)\u001b[0m\u001b[0;34m\u001b[0m\u001b[0;34m\u001b[0m\u001b[0m\n",
      "\u001b[0;31mAttributeError\u001b[0m: 'tuple' object has no attribute 'append'"
     ]
    }
   ],
   "source": [
    "# Tuple에는 append가 안돼요\n",
    "days = (\"Mon\", \"Tue\", \"Wed\", \"Thu\", \"Fri\")\n",
    "days.append(\"Sat\")\n",
    "print(days)"
   ]
  },
  {
   "cell_type": "code",
   "execution_count": 8,
   "metadata": {
    "tags": []
   },
   "outputs": [
    {
     "output_type": "stream",
     "name": "stdout",
     "text": "{'name': 'Nico', 'age': 29, 'korean': True, 'fav_Food': ['Kimchi', 'Sushi']}\nNico\n"
    }
   ],
   "source": [
    "# Dictionary\n",
    "# Attribute와 content 사이에는 tab 사용 가능.\n",
    "student1 = {\n",
    "    \"name\":     \"Nico\",\n",
    "    \"age\":      29,\n",
    "    \"korean\":   True,\n",
    "    \"fav_Food\": [\"Kimchi\", \"Sushi\"]\n",
    "}\n",
    "print(student1)\n",
    "print(student1[\"name\"])"
   ]
  },
  {
   "cell_type": "code",
   "execution_count": 12,
   "metadata": {
    "tags": []
   },
   "outputs": [
    {
     "output_type": "stream",
     "name": "stdout",
     "text": "{'name': 'Nico', 'age': 29, 'korean': True, 'fav_Food': ['Kimchi', 'Sushi'], 'prop1': 'Handsome'}\n"
    }
   ],
   "source": [
    "# How to append dictionary data\n",
    "student1 = {\n",
    "    \"name\":     \"Nico\",\n",
    "    \"age\":      29,\n",
    "    \"korean\":   True,\n",
    "    \"fav_Food\": [\"Kimchi\", \"Sushi\"]\n",
    "}\n",
    "\n",
    "student1[\"prop1\"] = \"Handsome\"\n",
    "print(student1)"
   ]
  },
  {
   "cell_type": "code",
   "execution_count": 13,
   "metadata": {
    "tags": []
   },
   "outputs": [
    {
     "output_type": "stream",
     "name": "stdout",
     "text": "8\n"
    }
   ],
   "source": [
    "print(len(\"howhowhw\"))"
   ]
  },
  {
   "cell_type": "code",
   "execution_count": 2,
   "metadata": {
    "tags": []
   },
   "outputs": [
    {
     "output_type": "stream",
     "name": "stdout",
     "text": "Bye\nHello\nHello\n"
    }
   ],
   "source": [
    "# Define a function; indentation means brace in Python.\n",
    "def say_hello():\n",
    "    print(\"Hello\")\n",
    "print(\"Bye\")\n",
    "say_hello()\n",
    "say_hello()"
   ]
  },
  {
   "cell_type": "code",
   "execution_count": 13,
   "metadata": {
    "tags": []
   },
   "outputs": [
    {
     "output_type": "stream",
     "name": "stdout",
     "text": "Hello SW you are 24 years old\n"
    }
   ],
   "source": [
    "# Format print\n",
    "def say_hello(name, age):\n",
    "    return f\"Hello {name} you are {age} years old\"\n",
    "hello = say_hello(age=\"24\", name=\"SW\")\n",
    "print(hello)"
   ]
  },
  {
   "cell_type": "code",
   "execution_count": 14,
   "metadata": {
    "tags": []
   },
   "outputs": [
    {
     "output_type": "stream",
     "name": "stdout",
     "text": "right\n"
    }
   ],
   "source": [
    "# Conditions\n",
    "def plus(a, b):\n",
    "    if (type(b) == str):\n",
    "        print(\"right\")\n",
    "\n",
    "plus(10, \"2\")"
   ]
  },
  {
   "cell_type": "code",
   "execution_count": 19,
   "metadata": {
    "tags": []
   },
   "outputs": [
    {
     "output_type": "stream",
     "name": "stdout",
     "text": "list1 == list2\nlist1 is not list2\nlist1 is list3\nlist1 is list3\n"
    }
   ],
   "source": [
    "# Difference between '==' and 'is'\n",
    "list1 = []\n",
    "list2 = []\n",
    "list3 = list1\n",
    "\n",
    "# The == operator compares the values of operands\n",
    "if (list1 == list2):\n",
    "    print(\"list1 == list2\")\n",
    "else:\n",
    "    print(\"list1 != list2\")\n",
    "\n",
    "# The is operator checks whether both the operands refer to the same object\n",
    "if (list1 is list2):\n",
    "    print(\"list1 is list2\")\n",
    "else:\n",
    "    print(\"list1 is not list2\")\n",
    "\n",
    "# 주소값이 같으니, 같은 객체라는 것, A is B (True)\n",
    "if (list1 is list3):\n",
    "    print(\"list1 is list3\")\n",
    "else:\n",
    "    print(\"list1 is not list3\")\n"
   ]
  },
  {
   "cell_type": "code",
   "execution_count": 25,
   "metadata": {
    "tags": []
   },
   "outputs": [
    {
     "output_type": "stream",
     "name": "stdout",
     "text": "24\n"
    }
   ],
   "source": [
    "def plus(a, b):\n",
    "    if (type(b) is str):\n",
    "        return (a + int(b))\n",
    "    else:\n",
    "        return (a + b)\n",
    "\n",
    "print(plus(12, \"12\"))"
   ]
  },
  {
   "cell_type": "code",
   "execution_count": 61,
   "metadata": {
    "tags": []
   },
   "outputs": [
    {
     "output_type": "stream",
     "name": "stdout",
     "text": "1 2 3 4 5\nMon Tue Wed Thu Fri"
    }
   ],
   "source": [
    "# Repetition\n",
    "days = (\"Mon\", \"Tue\", \"Wed\", \"Thu\", \"Fri\")\n",
    "\n",
    "str_of_days = \"\"\n",
    "for day in [1, 2, 3, 4, 5]:\n",
    "    str_of_days += str(day) + \" \"\n",
    "str_of_days = str_of_days.rstrip()\n",
    "\n",
    "print(str_of_days)\n",
    "\n",
    "for day in days:\n",
    "    print(day, end=\" \")"
   ]
  },
  {
   "cell_type": "code",
   "execution_count": 63,
   "metadata": {
    "tags": []
   },
   "outputs": [
    {
     "output_type": "stream",
     "name": "stdout",
     "text": "This   is    Test   String to test   duplicate  spaces    \n\n This is Test String to test duplicate spaces \n"
    }
   ],
   "source": [
    "# Removie or strip the duplicated spaces in Python\n",
    "import re # Regular expression\n",
    "sampleStr = \"   This   is    Test   String to test   duplicate  spaces    \"\n",
    "print(sampleStr)\n",
    "print()\n",
    "print(re.sub(' +', ' ', sampleStr))"
   ]
  },
  {
   "cell_type": "code",
   "execution_count": 72,
   "metadata": {
    "tags": []
   },
   "outputs": [
    {
     "output_type": "stream",
     "name": "stdout",
     "text": "l e t t e r s"
    }
   ],
   "source": [
    "# Letters also can be popped\n",
    "for letter in \"letters\":\n",
    "    print(letter, end=' ')"
   ]
  },
  {
   "cell_type": "code",
   "execution_count": 11,
   "metadata": {
    "tags": []
   },
   "outputs": [
    {
     "output_type": "stream",
     "name": "stdout",
     "text": "2\n28.0\n28.0\n"
    }
   ],
   "source": [
    "# Module, set of functionalities\n",
    "# import by keyword 'import'\n",
    "# don't have to do anything\n",
    "from math import ceil\n",
    "from math import fsum as cool_sum\n",
    "\n",
    "print(math.ceil(1.2))\n",
    "print(fsum([1, 2, 3, 4, 5, 6, 7]))\n",
    "print(cool_sum([1, 2, 3, 4, 5, 6, 7]))"
   ]
  },
  {
   "cell_type": "code",
   "execution_count": null,
   "metadata": {},
   "outputs": [],
   "source": []
  }
 ]
}