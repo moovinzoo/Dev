{
 "metadata": {
  "language_info": {
   "codemirror_mode": {
    "name": "ipython",
    "version": 3
   },
   "file_extension": ".py",
   "mimetype": "text/x-python",
   "name": "python",
   "nbconvert_exporter": "python",
   "pygments_lexer": "ipython3",
   "version": "3.7.3-final"
  },
  "orig_nbformat": 2,
  "kernelspec": {
   "name": "python3",
   "display_name": "Python 3"
  }
 },
 "nbformat": 4,
 "nbformat_minor": 2,
 "cells": [
  {
   "cell_type": "code",
   "execution_count": 1,
   "metadata": {
    "tags": []
   },
   "outputs": [
    {
     "output_type": "stream",
     "name": "stdout",
     "text": "['Mon', 'Tue', 'Wed', 'Thu', 'Fri', 'Sat']\n['Sat', 'Fri', 'Thu', 'Wed', 'Tue', 'Mon']\n"
    }
   ],
   "source": [
    "# List\n",
    "days = [\"Mon\", \"Tue\", \"Wed\", \"Thu\", \"Fri\"]\n",
    "days.append(\"Sat\")\n",
    "print(days)\n",
    "days.reverse()\n",
    "print(days)"
   ]
  },
  {
   "cell_type": "code",
   "execution_count": 2,
   "metadata": {
    "tags": []
   },
   "outputs": [
    {
     "output_type": "stream",
     "name": "stdout",
     "text": "<class 'tuple'>\n"
    }
   ],
   "source": [
    "# Tuple\n",
    "days = (\"Mon\", \"Tue\", \"Wed\", \"Thu\", \"Fri\")\n",
    "print(type(days))"
   ]
  },
  {
   "cell_type": "code",
   "execution_count": 3,
   "metadata": {},
   "outputs": [
    {
     "output_type": "error",
     "ename": "AttributeError",
     "evalue": "'tuple' object has no attribute 'append'",
     "traceback": [
      "\u001b[0;31m------------------------------------------------------\u001b[0m",
      "\u001b[0;31mAttributeError\u001b[0m       Traceback (most recent call last)",
      "\u001b[0;32m<ipython-input-3-e689d89f7d2c>\u001b[0m in \u001b[0;36m<module>\u001b[0;34m\u001b[0m\n\u001b[1;32m      1\u001b[0m \u001b[0;31m# Tuple test\u001b[0m\u001b[0;34m\u001b[0m\u001b[0;34m\u001b[0m\u001b[0;34m\u001b[0m\u001b[0m\n\u001b[1;32m      2\u001b[0m \u001b[0mdays\u001b[0m \u001b[0;34m=\u001b[0m \u001b[0;34m(\u001b[0m\u001b[0;34m\"Mon\"\u001b[0m\u001b[0;34m,\u001b[0m \u001b[0;34m\"Tue\"\u001b[0m\u001b[0;34m,\u001b[0m \u001b[0;34m\"Wed\"\u001b[0m\u001b[0;34m,\u001b[0m \u001b[0;34m\"Thu\"\u001b[0m\u001b[0;34m,\u001b[0m \u001b[0;34m\"Fri\"\u001b[0m\u001b[0;34m)\u001b[0m\u001b[0;34m\u001b[0m\u001b[0;34m\u001b[0m\u001b[0m\n\u001b[0;32m----> 3\u001b[0;31m \u001b[0mdays\u001b[0m\u001b[0;34m.\u001b[0m\u001b[0mappend\u001b[0m\u001b[0;34m(\u001b[0m\u001b[0;34m\"Sat\"\u001b[0m\u001b[0;34m)\u001b[0m\u001b[0;34m\u001b[0m\u001b[0;34m\u001b[0m\u001b[0m\n\u001b[0m\u001b[1;32m      4\u001b[0m \u001b[0mprint\u001b[0m\u001b[0;34m(\u001b[0m\u001b[0mdays\u001b[0m\u001b[0;34m)\u001b[0m\u001b[0;34m\u001b[0m\u001b[0;34m\u001b[0m\u001b[0m\n",
      "\u001b[0;31mAttributeError\u001b[0m: 'tuple' object has no attribute 'append'"
     ]
    }
   ],
   "source": [
    "# Tuple에는 append가 안돼요\n",
    "days = (\"Mon\", \"Tue\", \"Wed\", \"Thu\", \"Fri\")\n",
    "days.append(\"Sat\")\n",
    "print(days)"
   ]
  },
  {
   "cell_type": "code",
   "execution_count": 8,
   "metadata": {
    "tags": []
   },
   "outputs": [
    {
     "output_type": "stream",
     "name": "stdout",
     "text": "{'name': 'Nico', 'age': 29, 'korean': True, 'fav_Food': ['Kimchi', 'Sushi']}\nNico\n"
    }
   ],
   "source": [
    "# Dictionary\n",
    "# Attribute와 content 사이에는 tab 사용 가능.\n",
    "student1 = {\n",
    "    \"name\":     \"Nico\",\n",
    "    \"age\":      29,\n",
    "    \"korean\":   True,\n",
    "    \"fav_Food\": [\"Kimchi\", \"Sushi\"]\n",
    "}\n",
    "print(student1)\n",
    "print(student1[\"name\"])"
   ]
  },
  {
   "cell_type": "code",
   "execution_count": 12,
   "metadata": {
    "tags": []
   },
   "outputs": [
    {
     "output_type": "stream",
     "name": "stdout",
     "text": "{'name': 'Nico', 'age': 29, 'korean': True, 'fav_Food': ['Kimchi', 'Sushi'], 'prop1': 'Handsome'}\n"
    }
   ],
   "source": [
    "# How to append dictionary data\n",
    "student1 = {\n",
    "    \"name\":     \"Nico\",\n",
    "    \"age\":      29,\n",
    "    \"korean\":   True,\n",
    "    \"fav_Food\": [\"Kimchi\", \"Sushi\"]\n",
    "}\n",
    "\n",
    "student1[\"prop1\"] = \"Handsome\"\n",
    "print(student1)"
   ]
  },
  {
   "cell_type": "code",
   "execution_count": 13,
   "metadata": {
    "tags": []
   },
   "outputs": [
    {
     "output_type": "stream",
     "name": "stdout",
     "text": "8\n"
    }
   ],
   "source": [
    "print(len(\"howhowhw\"))"
   ]
  },
  {
   "cell_type": "code",
   "execution_count": 25,
   "metadata": {
    "tags": []
   },
   "outputs": [
    {
     "output_type": "stream",
     "name": "stdout",
     "text": "Bye\nHello\nHello\nHello\nHello\n"
    }
   ],
   "source": [
    "# Define a function\n",
    "def say_hello():\n",
    "    print(\"Hello\")\n",
    "    \n",
    "    print(\"Bye\")\n",
    "say_hello()\n",
    "say_hello()\n",
    "say_hello()\n",
    "say_hello()\n"
   ]
  },
  {
   "cell_type": "code",
   "execution_count": null,
   "metadata": {},
   "outputs": [],
   "source": []
  }
 ]
}