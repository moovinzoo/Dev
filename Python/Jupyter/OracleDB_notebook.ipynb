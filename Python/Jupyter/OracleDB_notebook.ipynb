{
 "metadata": {
  "language_info": {
   "codemirror_mode": {
    "name": "ipython",
    "version": 3
   },
   "file_extension": ".py",
   "mimetype": "text/x-python",
   "name": "python",
   "nbconvert_exporter": "python",
   "pygments_lexer": "ipython3",
   "version": "3.8.6-final"
  },
  "orig_nbformat": 2,
  "kernelspec": {
   "name": "Python 3.8.6 64-bit ('Jupyter': pipenv)",
   "display_name": "Python 3.8.6 64-bit ('Jupyter': pipenv)",
   "metadata": {
    "interpreter": {
     "hash": "6d2d794d7947e01346575b9553ac6423755fa9ed152d2272f160c359e33ee871"
    }
   }
  }
 },
 "nbformat": 4,
 "nbformat_minor": 2,
 "cells": [
  {
   "cell_type": "code",
   "execution_count": 7,
   "metadata": {},
   "outputs": [],
   "source": [
    "import psycopg2\n",
    "\n",
    "def PythonDatabaseExample(userid, passwd):\n",
    "    try:\n",
    "        print(\"check\")\n",
    "        conn = psycopg2.connect(host=\"db.yale.edu\", port=5432, dbname=\"univdb\", user=userid, password=passwd)\n",
    "        cur = conn.cursor()\n",
    "        try:\n",
    "            print(\"check\")\n",
    "            cur.execute(\"insert into instructor values(%s, %s, %s, %s)\", (\"77987\", \"Kim\", \"Physics\", 98000))\n",
    "            conn.commit()\n",
    "        except Exception as sqle:\n",
    "            print(\"Could not insert tuple. \", sqle)\n",
    "            conn.rollback()\n",
    "        cur.execute((\"select dept_name, avg (salary) \" \"from instructor group by dept_name\"))\n",
    "        print(\"check\")\n",
    "        for dept in cur:\n",
    "            print(dept[0], dept[1])\n",
    "    except Exception as sqle:\n",
    "        print(\"Exception : \", sqle)"
   ]
  },
  {
   "cell_type": "code",
   "execution_count": null,
   "metadata": {},
   "outputs": [],
   "source": []
  }
 ]
}